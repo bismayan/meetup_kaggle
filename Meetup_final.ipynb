{
 "cells": [
  {
   "cell_type": "markdown",
   "metadata": {
    "deletable": true,
    "editable": true
   },
   "source": [
    "# Meetup Hands-on Notebook"
   ]
  },
  {
   "cell_type": "markdown",
   "metadata": {
    "deletable": true,
    "editable": true
   },
   "source": [
    "Prerequisites: \n",
    "We will be using Python(2.7) in this tutorial. You will need the following packages:\n",
    "    \n",
    "    - Numpy\n",
    "    - Scikit-learn\n",
    "    - Pandas\n",
    "    - Matlpotlib\n",
    "    - Jupyter-Notebook\n",
    "    \n",
    "Installation:\n",
    "    For Mac OS : \n",
    "        \n",
    "        Option 1) Install Anaconda which comes with all required packages.\n",
    "        Option 2) Open a terminal, then first run  pip install -U pip, then\n",
    "    \n",
    "        \n",
    "        - Install Numpy      : pip install numpy\n",
    "        - Install Pandas     : pip install pandas\n",
    "        - Install Sklearn    : pip install scipy ; pip install -U sklearn\n",
    "        - Install Matplotlib : pip install matplotlib\n",
    "        - Jupyter Notebook   : pip install jupyter\n",
    "    \n",
    "    \n",
    "     For Windows:\n",
    "        The easiest way is to install Anaconda which will come with all the required packages. Install Anaconda from    https://docs.continuum.io/anaconda/install.\n",
    "    \n",
    "Note- We will be using Python 2.7 here although most of the code will work with Python 3 as well, however you will have to put parantheses around all print statements e.g- \"print x\" becomes \"print(x)\". In addition, division will no longer be needed to be cast to float explicitly\n",
    "        \n",
    "    \n",
    "    "
   ]
  },
  {
   "cell_type": "code",
   "execution_count": 2,
   "metadata": {
    "collapsed": true,
    "deletable": true,
    "editable": true
   },
   "outputs": [],
   "source": [
    "import pandas as pd\n",
    "import numpy as np\n",
    "import matplotlib.pyplot as plt\n",
    "% matplotlib inline"
   ]
  },
  {
   "cell_type": "markdown",
   "metadata": {
    "deletable": true,
    "editable": true
   },
   "source": [
    "## Loading  data and taking a quick look at it"
   ]
  },
  {
   "cell_type": "code",
   "execution_count": 3,
   "metadata": {
    "collapsed": true,
    "deletable": true,
    "editable": true
   },
   "outputs": [],
   "source": [
    "train_data= pd.read_csv(\"train.csv\")\n",
    "test_data=  pd.read_csv(\"test.csv\")"
   ]
  },
  {
   "cell_type": "code",
   "execution_count": 3,
   "metadata": {
    "collapsed": false,
    "deletable": true,
    "editable": true
   },
   "outputs": [
    {
     "data": {
      "text/html": [
       "<div>\n",
       "<table border=\"1\" class=\"dataframe\">\n",
       "  <thead>\n",
       "    <tr style=\"text-align: right;\">\n",
       "      <th></th>\n",
       "      <th>QuoteNumber</th>\n",
       "      <th>Original_Quote_Date</th>\n",
       "      <th>QuoteConversion_Flag</th>\n",
       "      <th>Field6</th>\n",
       "      <th>Field7</th>\n",
       "      <th>Field8</th>\n",
       "      <th>Field9</th>\n",
       "      <th>Field10</th>\n",
       "      <th>Field11</th>\n",
       "      <th>Field12</th>\n",
       "      <th>...</th>\n",
       "      <th>GeographicField59A</th>\n",
       "      <th>GeographicField59B</th>\n",
       "      <th>GeographicField60A</th>\n",
       "      <th>GeographicField60B</th>\n",
       "      <th>GeographicField61A</th>\n",
       "      <th>GeographicField61B</th>\n",
       "      <th>GeographicField62A</th>\n",
       "      <th>GeographicField62B</th>\n",
       "      <th>GeographicField63</th>\n",
       "      <th>GeographicField64</th>\n",
       "    </tr>\n",
       "  </thead>\n",
       "  <tbody>\n",
       "    <tr>\n",
       "      <th>0</th>\n",
       "      <td>1</td>\n",
       "      <td>2013-08-16</td>\n",
       "      <td>0</td>\n",
       "      <td>B</td>\n",
       "      <td>23</td>\n",
       "      <td>0.9403</td>\n",
       "      <td>0.0006</td>\n",
       "      <td>965</td>\n",
       "      <td>1.0200</td>\n",
       "      <td>N</td>\n",
       "      <td>...</td>\n",
       "      <td>9</td>\n",
       "      <td>9</td>\n",
       "      <td>-1</td>\n",
       "      <td>8</td>\n",
       "      <td>-1</td>\n",
       "      <td>18</td>\n",
       "      <td>-1</td>\n",
       "      <td>10</td>\n",
       "      <td>N</td>\n",
       "      <td>CA</td>\n",
       "    </tr>\n",
       "    <tr>\n",
       "      <th>1</th>\n",
       "      <td>2</td>\n",
       "      <td>2014-04-22</td>\n",
       "      <td>0</td>\n",
       "      <td>F</td>\n",
       "      <td>7</td>\n",
       "      <td>1.0006</td>\n",
       "      <td>0.0040</td>\n",
       "      <td>548</td>\n",
       "      <td>1.2433</td>\n",
       "      <td>N</td>\n",
       "      <td>...</td>\n",
       "      <td>10</td>\n",
       "      <td>10</td>\n",
       "      <td>-1</td>\n",
       "      <td>11</td>\n",
       "      <td>-1</td>\n",
       "      <td>17</td>\n",
       "      <td>-1</td>\n",
       "      <td>20</td>\n",
       "      <td>N</td>\n",
       "      <td>NJ</td>\n",
       "    </tr>\n",
       "    <tr>\n",
       "      <th>2</th>\n",
       "      <td>4</td>\n",
       "      <td>2014-08-25</td>\n",
       "      <td>0</td>\n",
       "      <td>F</td>\n",
       "      <td>7</td>\n",
       "      <td>1.0006</td>\n",
       "      <td>0.0040</td>\n",
       "      <td>548</td>\n",
       "      <td>1.2433</td>\n",
       "      <td>N</td>\n",
       "      <td>...</td>\n",
       "      <td>15</td>\n",
       "      <td>18</td>\n",
       "      <td>-1</td>\n",
       "      <td>21</td>\n",
       "      <td>-1</td>\n",
       "      <td>11</td>\n",
       "      <td>-1</td>\n",
       "      <td>8</td>\n",
       "      <td>N</td>\n",
       "      <td>NJ</td>\n",
       "    </tr>\n",
       "    <tr>\n",
       "      <th>3</th>\n",
       "      <td>6</td>\n",
       "      <td>2013-04-15</td>\n",
       "      <td>0</td>\n",
       "      <td>J</td>\n",
       "      <td>10</td>\n",
       "      <td>0.9769</td>\n",
       "      <td>0.0004</td>\n",
       "      <td>1,165</td>\n",
       "      <td>1.2665</td>\n",
       "      <td>N</td>\n",
       "      <td>...</td>\n",
       "      <td>6</td>\n",
       "      <td>5</td>\n",
       "      <td>-1</td>\n",
       "      <td>10</td>\n",
       "      <td>-1</td>\n",
       "      <td>9</td>\n",
       "      <td>-1</td>\n",
       "      <td>21</td>\n",
       "      <td>N</td>\n",
       "      <td>TX</td>\n",
       "    </tr>\n",
       "    <tr>\n",
       "      <th>4</th>\n",
       "      <td>8</td>\n",
       "      <td>2014-01-25</td>\n",
       "      <td>0</td>\n",
       "      <td>E</td>\n",
       "      <td>23</td>\n",
       "      <td>0.9472</td>\n",
       "      <td>0.0006</td>\n",
       "      <td>1,487</td>\n",
       "      <td>1.3045</td>\n",
       "      <td>N</td>\n",
       "      <td>...</td>\n",
       "      <td>18</td>\n",
       "      <td>22</td>\n",
       "      <td>-1</td>\n",
       "      <td>10</td>\n",
       "      <td>-1</td>\n",
       "      <td>11</td>\n",
       "      <td>-1</td>\n",
       "      <td>12</td>\n",
       "      <td>N</td>\n",
       "      <td>IL</td>\n",
       "    </tr>\n",
       "  </tbody>\n",
       "</table>\n",
       "<p>5 rows × 299 columns</p>\n",
       "</div>"
      ],
      "text/plain": [
       "   QuoteNumber Original_Quote_Date  QuoteConversion_Flag Field6  Field7  \\\n",
       "0            1          2013-08-16                     0      B      23   \n",
       "1            2          2014-04-22                     0      F       7   \n",
       "2            4          2014-08-25                     0      F       7   \n",
       "3            6          2013-04-15                     0      J      10   \n",
       "4            8          2014-01-25                     0      E      23   \n",
       "\n",
       "   Field8  Field9 Field10  Field11 Field12        ...          \\\n",
       "0  0.9403  0.0006     965   1.0200       N        ...           \n",
       "1  1.0006  0.0040     548   1.2433       N        ...           \n",
       "2  1.0006  0.0040     548   1.2433       N        ...           \n",
       "3  0.9769  0.0004   1,165   1.2665       N        ...           \n",
       "4  0.9472  0.0006   1,487   1.3045       N        ...           \n",
       "\n",
       "   GeographicField59A  GeographicField59B  GeographicField60A  \\\n",
       "0                   9                   9                  -1   \n",
       "1                  10                  10                  -1   \n",
       "2                  15                  18                  -1   \n",
       "3                   6                   5                  -1   \n",
       "4                  18                  22                  -1   \n",
       "\n",
       "   GeographicField60B  GeographicField61A  GeographicField61B  \\\n",
       "0                   8                  -1                  18   \n",
       "1                  11                  -1                  17   \n",
       "2                  21                  -1                  11   \n",
       "3                  10                  -1                   9   \n",
       "4                  10                  -1                  11   \n",
       "\n",
       "   GeographicField62A  GeographicField62B  GeographicField63  \\\n",
       "0                  -1                  10                  N   \n",
       "1                  -1                  20                  N   \n",
       "2                  -1                   8                  N   \n",
       "3                  -1                  21                  N   \n",
       "4                  -1                  12                  N   \n",
       "\n",
       "   GeographicField64  \n",
       "0                 CA  \n",
       "1                 NJ  \n",
       "2                 NJ  \n",
       "3                 TX  \n",
       "4                 IL  \n",
       "\n",
       "[5 rows x 299 columns]"
      ]
     },
     "execution_count": 3,
     "metadata": {},
     "output_type": "execute_result"
    }
   ],
   "source": [
    "train_data.head()"
   ]
  },
  {
   "cell_type": "code",
   "execution_count": 4,
   "metadata": {
    "collapsed": false,
    "deletable": true,
    "editable": true
   },
   "outputs": [
    {
     "data": {
      "text/html": [
       "<div>\n",
       "<table border=\"1\" class=\"dataframe\">\n",
       "  <thead>\n",
       "    <tr style=\"text-align: right;\">\n",
       "      <th></th>\n",
       "      <th>QuoteNumber</th>\n",
       "      <th>Original_Quote_Date</th>\n",
       "      <th>Field6</th>\n",
       "      <th>Field7</th>\n",
       "      <th>Field8</th>\n",
       "      <th>Field9</th>\n",
       "      <th>Field10</th>\n",
       "      <th>Field11</th>\n",
       "      <th>Field12</th>\n",
       "      <th>CoverageField1A</th>\n",
       "      <th>...</th>\n",
       "      <th>GeographicField59A</th>\n",
       "      <th>GeographicField59B</th>\n",
       "      <th>GeographicField60A</th>\n",
       "      <th>GeographicField60B</th>\n",
       "      <th>GeographicField61A</th>\n",
       "      <th>GeographicField61B</th>\n",
       "      <th>GeographicField62A</th>\n",
       "      <th>GeographicField62B</th>\n",
       "      <th>GeographicField63</th>\n",
       "      <th>GeographicField64</th>\n",
       "    </tr>\n",
       "  </thead>\n",
       "  <tbody>\n",
       "    <tr>\n",
       "      <th>0</th>\n",
       "      <td>3</td>\n",
       "      <td>2014-08-12</td>\n",
       "      <td>E</td>\n",
       "      <td>16</td>\n",
       "      <td>0.9364</td>\n",
       "      <td>0.0006</td>\n",
       "      <td>1,487</td>\n",
       "      <td>1.3045</td>\n",
       "      <td>N</td>\n",
       "      <td>4</td>\n",
       "      <td>...</td>\n",
       "      <td>1</td>\n",
       "      <td>1</td>\n",
       "      <td>-1</td>\n",
       "      <td>1</td>\n",
       "      <td>-1</td>\n",
       "      <td>20</td>\n",
       "      <td>-1</td>\n",
       "      <td>25</td>\n",
       "      <td>Y</td>\n",
       "      <td>IL</td>\n",
       "    </tr>\n",
       "    <tr>\n",
       "      <th>1</th>\n",
       "      <td>5</td>\n",
       "      <td>2013-09-07</td>\n",
       "      <td>F</td>\n",
       "      <td>11</td>\n",
       "      <td>0.9919</td>\n",
       "      <td>0.0038</td>\n",
       "      <td>564</td>\n",
       "      <td>1.1886</td>\n",
       "      <td>N</td>\n",
       "      <td>8</td>\n",
       "      <td>...</td>\n",
       "      <td>10</td>\n",
       "      <td>10</td>\n",
       "      <td>-1</td>\n",
       "      <td>5</td>\n",
       "      <td>-1</td>\n",
       "      <td>5</td>\n",
       "      <td>-1</td>\n",
       "      <td>21</td>\n",
       "      <td>N</td>\n",
       "      <td>NJ</td>\n",
       "    </tr>\n",
       "    <tr>\n",
       "      <th>2</th>\n",
       "      <td>7</td>\n",
       "      <td>2013-03-29</td>\n",
       "      <td>F</td>\n",
       "      <td>15</td>\n",
       "      <td>0.8945</td>\n",
       "      <td>0.0038</td>\n",
       "      <td>564</td>\n",
       "      <td>1.0670</td>\n",
       "      <td>N</td>\n",
       "      <td>11</td>\n",
       "      <td>...</td>\n",
       "      <td>10</td>\n",
       "      <td>11</td>\n",
       "      <td>-1</td>\n",
       "      <td>20</td>\n",
       "      <td>-1</td>\n",
       "      <td>22</td>\n",
       "      <td>-1</td>\n",
       "      <td>11</td>\n",
       "      <td>N</td>\n",
       "      <td>NJ</td>\n",
       "    </tr>\n",
       "    <tr>\n",
       "      <th>3</th>\n",
       "      <td>9</td>\n",
       "      <td>2015-03-21</td>\n",
       "      <td>K</td>\n",
       "      <td>21</td>\n",
       "      <td>0.8870</td>\n",
       "      <td>0.0004</td>\n",
       "      <td>1,113</td>\n",
       "      <td>1.2665</td>\n",
       "      <td>Y</td>\n",
       "      <td>14</td>\n",
       "      <td>...</td>\n",
       "      <td>8</td>\n",
       "      <td>8</td>\n",
       "      <td>-1</td>\n",
       "      <td>13</td>\n",
       "      <td>-1</td>\n",
       "      <td>8</td>\n",
       "      <td>-1</td>\n",
       "      <td>21</td>\n",
       "      <td>N</td>\n",
       "      <td>TX</td>\n",
       "    </tr>\n",
       "    <tr>\n",
       "      <th>4</th>\n",
       "      <td>10</td>\n",
       "      <td>2014-12-10</td>\n",
       "      <td>B</td>\n",
       "      <td>25</td>\n",
       "      <td>0.9153</td>\n",
       "      <td>0.0007</td>\n",
       "      <td>935</td>\n",
       "      <td>1.0200</td>\n",
       "      <td>N</td>\n",
       "      <td>4</td>\n",
       "      <td>...</td>\n",
       "      <td>7</td>\n",
       "      <td>7</td>\n",
       "      <td>-1</td>\n",
       "      <td>3</td>\n",
       "      <td>-1</td>\n",
       "      <td>22</td>\n",
       "      <td>-1</td>\n",
       "      <td>21</td>\n",
       "      <td>N</td>\n",
       "      <td>CA</td>\n",
       "    </tr>\n",
       "  </tbody>\n",
       "</table>\n",
       "<p>5 rows × 298 columns</p>\n",
       "</div>"
      ],
      "text/plain": [
       "   QuoteNumber Original_Quote_Date Field6  Field7  Field8  Field9 Field10  \\\n",
       "0            3          2014-08-12      E      16  0.9364  0.0006   1,487   \n",
       "1            5          2013-09-07      F      11  0.9919  0.0038     564   \n",
       "2            7          2013-03-29      F      15  0.8945  0.0038     564   \n",
       "3            9          2015-03-21      K      21  0.8870  0.0004   1,113   \n",
       "4           10          2014-12-10      B      25  0.9153  0.0007     935   \n",
       "\n",
       "   Field11 Field12  CoverageField1A        ...          GeographicField59A  \\\n",
       "0   1.3045       N                4        ...                           1   \n",
       "1   1.1886       N                8        ...                          10   \n",
       "2   1.0670       N               11        ...                          10   \n",
       "3   1.2665       Y               14        ...                           8   \n",
       "4   1.0200       N                4        ...                           7   \n",
       "\n",
       "   GeographicField59B  GeographicField60A  GeographicField60B  \\\n",
       "0                   1                  -1                   1   \n",
       "1                  10                  -1                   5   \n",
       "2                  11                  -1                  20   \n",
       "3                   8                  -1                  13   \n",
       "4                   7                  -1                   3   \n",
       "\n",
       "   GeographicField61A  GeographicField61B  GeographicField62A  \\\n",
       "0                  -1                  20                  -1   \n",
       "1                  -1                   5                  -1   \n",
       "2                  -1                  22                  -1   \n",
       "3                  -1                   8                  -1   \n",
       "4                  -1                  22                  -1   \n",
       "\n",
       "   GeographicField62B  GeographicField63  GeographicField64  \n",
       "0                  25                  Y                 IL  \n",
       "1                  21                  N                 NJ  \n",
       "2                  11                  N                 NJ  \n",
       "3                  21                  N                 TX  \n",
       "4                  21                  N                 CA  \n",
       "\n",
       "[5 rows x 298 columns]"
      ]
     },
     "execution_count": 4,
     "metadata": {},
     "output_type": "execute_result"
    }
   ],
   "source": [
    "test_data.head()"
   ]
  },
  {
   "cell_type": "code",
   "execution_count": 5,
   "metadata": {
    "collapsed": false,
    "deletable": true,
    "editable": true
   },
   "outputs": [
    {
     "name": "stdout",
     "output_type": "stream",
     "text": [
      "Training Data Shape: (260753, 299)\n",
      "Test Data Shape: (173836, 298)\n"
     ]
    }
   ],
   "source": [
    "print \"Training Data Shape:\",train_data.shape\n",
    "print \"Test Data Shape:\",test_data.shape\n"
   ]
  },
  {
   "cell_type": "code",
   "execution_count": 6,
   "metadata": {
    "collapsed": false,
    "deletable": true,
    "editable": true
   },
   "outputs": [
    {
     "name": "stdout",
     "output_type": "stream",
     "text": [
      "Index([u'QuoteNumber', u'Original_Quote_Date', u'QuoteConversion_Flag',\n",
      "       u'Field6', u'Field7', u'Field8', u'Field9', u'Field10', u'Field11',\n",
      "       u'Field12',\n",
      "       ...\n",
      "       u'GeographicField59A', u'GeographicField59B', u'GeographicField60A',\n",
      "       u'GeographicField60B', u'GeographicField61A', u'GeographicField61B',\n",
      "       u'GeographicField62A', u'GeographicField62B', u'GeographicField63',\n",
      "       u'GeographicField64'],\n",
      "      dtype='object', length=299)\n"
     ]
    }
   ],
   "source": [
    "# How to look at columns in the data\n",
    "print train_data.columns"
   ]
  },
  {
   "cell_type": "markdown",
   "metadata": {
    "deletable": true,
    "editable": true
   },
   "source": [
    "## Dropping Quote Number Column and Saving label column\n",
    "\n",
    "Why do you think the Quote Number column is useless?"
   ]
  },
  {
   "cell_type": "code",
   "execution_count": 4,
   "metadata": {
    "collapsed": true,
    "deletable": true,
    "editable": true
   },
   "outputs": [],
   "source": [
    "train_data.drop(\"QuoteNumber\",axis=1, inplace=True)\n",
    "test_data.drop(\"QuoteNumber\",axis=1, inplace=True)\n",
    "# .values converts to Numpy array\n",
    "Y= train_data[\"QuoteConversion_Flag\"].values\n",
    "train_data.drop(\"QuoteConversion_Flag\",axis=1, inplace=True)"
   ]
  },
  {
   "cell_type": "markdown",
   "metadata": {
    "deletable": true,
    "editable": true
   },
   "source": [
    "Lets look at the new dimensions (shapes)"
   ]
  },
  {
   "cell_type": "code",
   "execution_count": 8,
   "metadata": {
    "collapsed": false,
    "deletable": true,
    "editable": true
   },
   "outputs": [
    {
     "name": "stdout",
     "output_type": "stream",
     "text": [
      "Training data Shape: (260753, 297)\n",
      "Testing data Shape: (173836, 297)\n",
      "Labels Shape: (260753,)\n"
     ]
    }
   ],
   "source": [
    "print \"Training data Shape:\", train_data.shape\n",
    "print \"Testing data Shape:\", test_data.shape\n",
    "print \"Labels Shape:\", Y.shape"
   ]
  },
  {
   "cell_type": "code",
   "execution_count": 9,
   "metadata": {
    "collapsed": false,
    "deletable": true,
    "editable": true
   },
   "outputs": [
    {
     "name": "stdout",
     "output_type": "stream",
     "text": [
      "Number of Positive Quotes 48894, Fraction=0.18751078607\n",
      "Number of Negative Quotes 211859, Fraction=0.81248921393\n"
     ]
    }
   ],
   "source": [
    "print \"Number of Positive Quotes {}, Fraction={}\".format(str(len(Y[Y==1])), str(len(Y[Y==1])/float(len(Y))))\n",
    "print \"Number of Negative Quotes {}, Fraction={}\".format(str(len(Y[Y==0])), str(len(Y[Y==0])/float(len(Y))))\n"
   ]
  },
  {
   "cell_type": "markdown",
   "metadata": {
    "deletable": true,
    "editable": true
   },
   "source": [
    "We have a somewhat unbalanced class ratio. What challenges do you think class imbalance brings? How do you judge what a good classifier is?"
   ]
  },
  {
   "cell_type": "markdown",
   "metadata": {
    "deletable": true,
    "editable": true
   },
   "source": [
    "# Dealing with Date Columns\n",
    "\n",
    "We convert the Date column to a pandas datetime object which allows us to extract numbers from it."
   ]
  },
  {
   "cell_type": "code",
   "execution_count": 5,
   "metadata": {
    "collapsed": false,
    "deletable": true,
    "editable": true
   },
   "outputs": [],
   "source": [
    "train_data['Date'] = pd.to_datetime(pd.Series(train_data['Original_Quote_Date']))\n",
    "train_data = train_data.drop('Original_Quote_Date',axis=1)\n",
    "test_data['Date'] = pd.to_datetime(pd.Series(test_data['Original_Quote_Date']))\n",
    "test_data = test_data.drop('Original_Quote_Date',axis=1)\n",
    "\n"
   ]
  },
  {
   "cell_type": "code",
   "execution_count": 11,
   "metadata": {
    "collapsed": false,
    "deletable": true,
    "editable": true
   },
   "outputs": [
    {
     "name": "stdout",
     "output_type": "stream",
     "text": [
      "datetime64[ns]\n"
     ]
    },
    {
     "data": {
      "text/html": [
       "<div>\n",
       "<table border=\"1\" class=\"dataframe\">\n",
       "  <thead>\n",
       "    <tr style=\"text-align: right;\">\n",
       "      <th></th>\n",
       "      <th>Field6</th>\n",
       "      <th>Field7</th>\n",
       "      <th>Field8</th>\n",
       "      <th>Field9</th>\n",
       "      <th>Field10</th>\n",
       "      <th>Field11</th>\n",
       "      <th>Field12</th>\n",
       "      <th>CoverageField1A</th>\n",
       "      <th>CoverageField1B</th>\n",
       "      <th>CoverageField2A</th>\n",
       "      <th>...</th>\n",
       "      <th>GeographicField59B</th>\n",
       "      <th>GeographicField60A</th>\n",
       "      <th>GeographicField60B</th>\n",
       "      <th>GeographicField61A</th>\n",
       "      <th>GeographicField61B</th>\n",
       "      <th>GeographicField62A</th>\n",
       "      <th>GeographicField62B</th>\n",
       "      <th>GeographicField63</th>\n",
       "      <th>GeographicField64</th>\n",
       "      <th>Date</th>\n",
       "    </tr>\n",
       "  </thead>\n",
       "  <tbody>\n",
       "    <tr>\n",
       "      <th>0</th>\n",
       "      <td>B</td>\n",
       "      <td>23</td>\n",
       "      <td>0.9403</td>\n",
       "      <td>0.0006</td>\n",
       "      <td>965</td>\n",
       "      <td>1.0200</td>\n",
       "      <td>N</td>\n",
       "      <td>17</td>\n",
       "      <td>23</td>\n",
       "      <td>17</td>\n",
       "      <td>...</td>\n",
       "      <td>9</td>\n",
       "      <td>-1</td>\n",
       "      <td>8</td>\n",
       "      <td>-1</td>\n",
       "      <td>18</td>\n",
       "      <td>-1</td>\n",
       "      <td>10</td>\n",
       "      <td>N</td>\n",
       "      <td>CA</td>\n",
       "      <td>2013-08-16</td>\n",
       "    </tr>\n",
       "    <tr>\n",
       "      <th>1</th>\n",
       "      <td>F</td>\n",
       "      <td>7</td>\n",
       "      <td>1.0006</td>\n",
       "      <td>0.0040</td>\n",
       "      <td>548</td>\n",
       "      <td>1.2433</td>\n",
       "      <td>N</td>\n",
       "      <td>6</td>\n",
       "      <td>8</td>\n",
       "      <td>6</td>\n",
       "      <td>...</td>\n",
       "      <td>10</td>\n",
       "      <td>-1</td>\n",
       "      <td>11</td>\n",
       "      <td>-1</td>\n",
       "      <td>17</td>\n",
       "      <td>-1</td>\n",
       "      <td>20</td>\n",
       "      <td>N</td>\n",
       "      <td>NJ</td>\n",
       "      <td>2014-04-22</td>\n",
       "    </tr>\n",
       "    <tr>\n",
       "      <th>2</th>\n",
       "      <td>F</td>\n",
       "      <td>7</td>\n",
       "      <td>1.0006</td>\n",
       "      <td>0.0040</td>\n",
       "      <td>548</td>\n",
       "      <td>1.2433</td>\n",
       "      <td>N</td>\n",
       "      <td>7</td>\n",
       "      <td>12</td>\n",
       "      <td>7</td>\n",
       "      <td>...</td>\n",
       "      <td>18</td>\n",
       "      <td>-1</td>\n",
       "      <td>21</td>\n",
       "      <td>-1</td>\n",
       "      <td>11</td>\n",
       "      <td>-1</td>\n",
       "      <td>8</td>\n",
       "      <td>N</td>\n",
       "      <td>NJ</td>\n",
       "      <td>2014-08-25</td>\n",
       "    </tr>\n",
       "    <tr>\n",
       "      <th>3</th>\n",
       "      <td>J</td>\n",
       "      <td>10</td>\n",
       "      <td>0.9769</td>\n",
       "      <td>0.0004</td>\n",
       "      <td>1,165</td>\n",
       "      <td>1.2665</td>\n",
       "      <td>N</td>\n",
       "      <td>3</td>\n",
       "      <td>2</td>\n",
       "      <td>3</td>\n",
       "      <td>...</td>\n",
       "      <td>5</td>\n",
       "      <td>-1</td>\n",
       "      <td>10</td>\n",
       "      <td>-1</td>\n",
       "      <td>9</td>\n",
       "      <td>-1</td>\n",
       "      <td>21</td>\n",
       "      <td>N</td>\n",
       "      <td>TX</td>\n",
       "      <td>2013-04-15</td>\n",
       "    </tr>\n",
       "    <tr>\n",
       "      <th>4</th>\n",
       "      <td>E</td>\n",
       "      <td>23</td>\n",
       "      <td>0.9472</td>\n",
       "      <td>0.0006</td>\n",
       "      <td>1,487</td>\n",
       "      <td>1.3045</td>\n",
       "      <td>N</td>\n",
       "      <td>8</td>\n",
       "      <td>13</td>\n",
       "      <td>8</td>\n",
       "      <td>...</td>\n",
       "      <td>22</td>\n",
       "      <td>-1</td>\n",
       "      <td>10</td>\n",
       "      <td>-1</td>\n",
       "      <td>11</td>\n",
       "      <td>-1</td>\n",
       "      <td>12</td>\n",
       "      <td>N</td>\n",
       "      <td>IL</td>\n",
       "      <td>2014-01-25</td>\n",
       "    </tr>\n",
       "  </tbody>\n",
       "</table>\n",
       "<p>5 rows × 297 columns</p>\n",
       "</div>"
      ],
      "text/plain": [
       "  Field6  Field7  Field8  Field9 Field10  Field11 Field12  CoverageField1A  \\\n",
       "0      B      23  0.9403  0.0006     965   1.0200       N               17   \n",
       "1      F       7  1.0006  0.0040     548   1.2433       N                6   \n",
       "2      F       7  1.0006  0.0040     548   1.2433       N                7   \n",
       "3      J      10  0.9769  0.0004   1,165   1.2665       N                3   \n",
       "4      E      23  0.9472  0.0006   1,487   1.3045       N                8   \n",
       "\n",
       "   CoverageField1B  CoverageField2A    ...      GeographicField59B  \\\n",
       "0               23               17    ...                       9   \n",
       "1                8                6    ...                      10   \n",
       "2               12                7    ...                      18   \n",
       "3                2                3    ...                       5   \n",
       "4               13                8    ...                      22   \n",
       "\n",
       "   GeographicField60A  GeographicField60B  GeographicField61A  \\\n",
       "0                  -1                   8                  -1   \n",
       "1                  -1                  11                  -1   \n",
       "2                  -1                  21                  -1   \n",
       "3                  -1                  10                  -1   \n",
       "4                  -1                  10                  -1   \n",
       "\n",
       "   GeographicField61B  GeographicField62A  GeographicField62B  \\\n",
       "0                  18                  -1                  10   \n",
       "1                  17                  -1                  20   \n",
       "2                  11                  -1                   8   \n",
       "3                   9                  -1                  21   \n",
       "4                  11                  -1                  12   \n",
       "\n",
       "   GeographicField63  GeographicField64       Date  \n",
       "0                  N                 CA 2013-08-16  \n",
       "1                  N                 NJ 2014-04-22  \n",
       "2                  N                 NJ 2014-08-25  \n",
       "3                  N                 TX 2013-04-15  \n",
       "4                  N                 IL 2014-01-25  \n",
       "\n",
       "[5 rows x 297 columns]"
      ]
     },
     "execution_count": 11,
     "metadata": {},
     "output_type": "execute_result"
    }
   ],
   "source": [
    "print train_data[\"Date\"].dtype\n",
    "train_data.head()\n"
   ]
  },
  {
   "cell_type": "code",
   "execution_count": 6,
   "metadata": {
    "collapsed": false,
    "deletable": true,
    "editable": true
   },
   "outputs": [],
   "source": [
    "train_data['Year'] = train_data['Date'].dt.year\n",
    "train_data['Month'] = train_data['Date'].dt.month\n",
    "train_data['weekday'] = train_data['Date'].dt.dayofweek\n",
    "\n",
    "test_data['Year'] = test_data['Date'].dt.year\n",
    "test_data['Month'] = test_data['Date'].dt.month\n",
    "test_data['weekday'] = test_data['Date'].dt.dayofweek\n",
    "\n",
    "train_data.drop('Date', axis=1,inplace=True)\n",
    "test_data.drop('Date', axis=1,inplace=True)\n"
   ]
  },
  {
   "cell_type": "markdown",
   "metadata": {
    "deletable": true,
    "editable": true
   },
   "source": [
    "## Checking For columns with Null Values (Missing data)"
   ]
  },
  {
   "cell_type": "markdown",
   "metadata": {
    "deletable": true,
    "editable": true
   },
   "source": [
    "Some of the columns contain missing values. Most machine learning algorithms in Scikit Learn (and almost all other libraries) cannot handle them. Let us find which columns are troublesome."
   ]
  },
  {
   "cell_type": "code",
   "execution_count": 13,
   "metadata": {
    "collapsed": false,
    "deletable": true,
    "editable": true
   },
   "outputs": [
    {
     "name": "stdout",
     "output_type": "stream",
     "text": [
      "List of Columns with Null values, Number of Nulls and fraction of entries that are null\n",
      "PersonalField7 113 0.0433360306497\n",
      "PersonalField84 124208 47.6343512826\n",
      "PropertyField3 81 0.0310638803772\n",
      "PropertyField4 63 0.0241607958489\n",
      "PropertyField29 200685 76.9636399198\n",
      "PropertyField32 70 0.0268453287211\n",
      "PropertyField34 70 0.0268453287211\n",
      "PropertyField36 113 0.0433360306497\n",
      "PropertyField38 1220 0.467875729138\n"
     ]
    }
   ],
   "source": [
    "print \"List of Columns with Null values, Number of Nulls and fraction of entries that are null\"\n",
    "count_null=0\n",
    "null_cols=[]\n",
    "for f in train_data.columns:\n",
    "        null_sum=train_data[f].isnull().sum()\n",
    "        if null_sum>0:\n",
    "            null_cols.append(f)\n",
    "            print f,null_sum,null_sum*100/float(len(train_data))\n",
    "            count_null+=1\n",
    "\n",
    "\n",
    "#print null_cols"
   ]
  },
  {
   "cell_type": "markdown",
   "metadata": {
    "deletable": true,
    "editable": true
   },
   "source": [
    "PersonalField84,PropertyField29 and PropertyField38 are the worst. Let us look at what the values in these columns are"
   ]
  },
  {
   "cell_type": "code",
   "execution_count": 35,
   "metadata": {
    "collapsed": false,
    "deletable": true,
    "editable": true
   },
   "outputs": [
    {
     "name": "stdout",
     "output_type": "stream",
     "text": [
      "Overall Value counts\n",
      " 2.0    134906\n",
      "NaN     124208\n",
      " 1.0      1564\n",
      " 5.0        62\n",
      " 3.0         7\n",
      " 7.0         3\n",
      " 4.0         2\n",
      " 8.0         1\n",
      "Name: PersonalField84, dtype: int64\n",
      "Positive Class counts\n",
      "NaN     24082\n",
      " 2.0    23949\n",
      " 1.0      827\n",
      " 5.0       28\n",
      " 3.0        4\n",
      " 7.0        2\n",
      " 4.0        2\n",
      "Name: PersonalField84, dtype: int64\n",
      "Negative Class counts\n",
      " 2.0    110957\n",
      "NaN     100126\n",
      " 1.0       737\n",
      " 5.0        34\n",
      " 3.0         3\n",
      " 7.0         1\n",
      " 8.0         1\n",
      "Name: PersonalField84, dtype: int64\n"
     ]
    }
   ],
   "source": [
    "field_mask=\"PersonalField84\" # Change as Necessary\n",
    "print \"Overall Value counts\"\n",
    "print train_data[field_mask].value_counts(dropna=False)\n",
    "print \"Positive Class counts\"\n",
    "print train_data[field_mask][Y==1].value_counts(dropna=False)\n",
    "print \"Negative Class counts\"\n",
    "print train_data[field_mask][Y==0].value_counts(dropna=False)\n",
    "\n"
   ]
  },
  {
   "cell_type": "markdown",
   "metadata": {
    "deletable": true,
    "editable": true
   },
   "source": [
    "As most machine learning algorithms cannot deal with missing values, we will have to fill up these values. Here we shall do the simplest possible thing and fill all of them with the value -1. In the real world we might have to spend significant time deciding how to deal with these values or if indeed to drop these columns altogether"
   ]
  },
  {
   "cell_type": "code",
   "execution_count": 7,
   "metadata": {
    "collapsed": true,
    "deletable": true,
    "editable": true
   },
   "outputs": [],
   "source": [
    "train_data.fillna(-1,inplace=True)"
   ]
  },
  {
   "cell_type": "markdown",
   "metadata": {
    "deletable": true,
    "editable": true
   },
   "source": [
    "Scikit Learn also provides us tools to perform this sort of filling of missing values via the Imputer module"
   ]
  },
  {
   "cell_type": "code",
   "execution_count": 16,
   "metadata": {
    "collapsed": true,
    "deletable": true,
    "editable": true
   },
   "outputs": [],
   "source": [
    "## If we had used imputer instead (DONT RUN)\n",
    "#from sklearn.preprocessing import Imputer\n",
    "#for f in null_cols:\n",
    "    #imputer=Imputer(strategy=\"most_frequent\")\n",
    "    #imputer.fit(train[f])\n",
    "    #train_data[f]=imputer.transform(train_data[f])\n",
    "    #test_data[f]=imputer.transform(test_data[f])\n"
   ]
  },
  {
   "cell_type": "markdown",
   "metadata": {
    "deletable": true,
    "editable": true
   },
   "source": [
    "## Lets Do some label Encoding for categorical variables"
   ]
  },
  {
   "cell_type": "markdown",
   "metadata": {
    "deletable": true,
    "editable": true
   },
   "source": [
    "We will have quite a few columns which have string data which are categorical. For example \"GeographicField64\" has the name of the state. As machine learning algorithms work with numbers, we will need to convert them to numbers. We do this using Label Encoder."
   ]
  },
  {
   "cell_type": "code",
   "execution_count": 8,
   "metadata": {
    "collapsed": false,
    "deletable": true,
    "editable": true
   },
   "outputs": [],
   "source": [
    "from sklearn.preprocessing import LabelEncoder\n",
    "string_cols=[]\n",
    "for f in train_data.columns:\n",
    "    if train_data[f].dtype=='object':\n",
    "        ## Here we store all the names of the columns containing strings\n",
    "        ##and the Number of unique values in each field (Why?)\n",
    "        string_cols.append([f,len(train_data[f].unique())])\n",
    "        lbl = LabelEncoder()\n",
    "        lbl.fit(list(train_data[f].values) + list(test_data[f].values))\n",
    "        train_data[f] = lbl.transform(list(train_data[f]))\n",
    "        test_data[f] = lbl.transform(list(test_data[f]))\n",
    "        "
   ]
  },
  {
   "cell_type": "markdown",
   "metadata": {},
   "source": [
    "Let us look at the columns we just label-encoded. Why is this a useful check?"
   ]
  },
  {
   "cell_type": "code",
   "execution_count": 16,
   "metadata": {
    "collapsed": false,
    "deletable": true,
    "editable": true
   },
   "outputs": [
    {
     "name": "stdout",
     "output_type": "stream",
     "text": [
      "[['Field6', 8], ['Field10', 8], ['Field12', 2], ['CoverageField8', 7], ['CoverageField9', 12], ['SalesField7', 7], ['PersonalField7', 3], ['PersonalField16', 50], ['PersonalField17', 66], ['PersonalField18', 61], ['PersonalField19', 57], ['PropertyField3', 3], ['PropertyField4', 3], ['PropertyField5', 2], ['PropertyField7', 19], ['PropertyField14', 4], ['PropertyField28', 4], ['PropertyField30', 2], ['PropertyField31', 4], ['PropertyField32', 3], ['PropertyField33', 4], ['PropertyField34', 3], ['PropertyField36', 3], ['PropertyField37', 2], ['PropertyField38', 3], ['GeographicField63', 3], ['GeographicField64', 4]]\n"
     ]
    }
   ],
   "source": [
    "print string_cols"
   ]
  },
  {
   "cell_type": "code",
   "execution_count": 17,
   "metadata": {
    "collapsed": false,
    "deletable": true,
    "editable": true
   },
   "outputs": [
    {
     "name": "stdout",
     "output_type": "stream",
     "text": [
      "0    94725\n",
      "2    69293\n",
      "3    65011\n",
      "1    31724\n",
      "Name: GeographicField64, dtype: int64\n"
     ]
    }
   ],
   "source": [
    "print train_data[\"GeographicField64\"].value_counts()"
   ]
  },
  {
   "cell_type": "code",
   "execution_count": 40,
   "metadata": {
    "collapsed": false,
    "deletable": true,
    "editable": true
   },
   "outputs": [
    {
     "data": {
      "text/plain": [
       "CA    94725\n",
       "NJ    69293\n",
       "TX    65011\n",
       "IL    31724\n",
       "Name: GeographicField64, dtype: int64"
      ]
     },
     "execution_count": 40,
     "metadata": {},
     "output_type": "execute_result"
    }
   ],
   "source": [
    "pd.read_csv(\"train.csv\")[\"GeographicField64\"].value_counts()"
   ]
  },
  {
   "cell_type": "markdown",
   "metadata": {
    "deletable": true,
    "editable": true
   },
   "source": [
    "What do you think the possible issues with this sort of encoding are? The particularly observant among you might have noticed I did something slightly non-kosher above. What would the kosher version be?"
   ]
  },
  {
   "cell_type": "markdown",
   "metadata": {
    "deletable": true,
    "editable": true
   },
   "source": [
    "# Train Test (Validation) Split with Stratification\n",
    "\n",
    "In order to check how well our classifier is doing we need to divide the data into training and validation sets. Scikit-learn provides useful tool for this"
   ]
  },
  {
   "cell_type": "code",
   "execution_count": 9,
   "metadata": {
    "collapsed": false,
    "deletable": true,
    "editable": true
   },
   "outputs": [],
   "source": [
    "from sklearn.model_selection import train_test_split\n",
    "Train_X, Val_X, Train_Y, Val_Y= train_test_split(train_data, Y, test_size=0.25, random_state=42,stratify=Y)"
   ]
  },
  {
   "cell_type": "code",
   "execution_count": 10,
   "metadata": {
    "collapsed": false,
    "deletable": true,
    "editable": true
   },
   "outputs": [
    {
     "name": "stdout",
     "output_type": "stream",
     "text": [
      "Lengths of Training and Testing features: 195564 65189\n",
      "Lengths of Training and Validation labels: 195564 65189\n",
      "How the labels were split in the Validation set: [ 0.8124837  0.1875163]\n",
      "Original Label Ratios: [ 0.81248921  0.18751079]\n"
     ]
    }
   ],
   "source": [
    "#Checking out that the splits worked out well.\n",
    "\n",
    "print \"Lengths of Training and Testing features:\",len(Train_X),len(Val_X)\n",
    "print \"Lengths of Training and Validation labels:\",len(Train_Y),len(Val_Y)\n",
    "print \"How the labels were split in the Validation set:\",np.bincount(Val_Y)/(float(len(Val_Y)))\n",
    "print \"Original Label Ratios:\",np.bincount(Y)/(float(len(Y)))"
   ]
  },
  {
   "cell_type": "markdown",
   "metadata": {
    "deletable": true,
    "editable": true
   },
   "source": [
    "## Scaling Variables\n",
    "\n"
   ]
  },
  {
   "cell_type": "markdown",
   "metadata": {
    "deletable": true,
    "editable": true
   },
   "source": [
    "In order for our optimization algorithms to work properly, we should ensure that all the variables have similar spreads. A common way to achieve this is to use \"Standard Scaling\", which rescales each field so that so that it has a mean of zero and a Standard deviation of one."
   ]
  },
  {
   "cell_type": "code",
   "execution_count": 11,
   "metadata": {
    "collapsed": true,
    "deletable": true,
    "editable": true
   },
   "outputs": [],
   "source": [
    "from sklearn.preprocessing import StandardScaler"
   ]
  },
  {
   "cell_type": "code",
   "execution_count": 12,
   "metadata": {
    "collapsed": false,
    "deletable": true,
    "editable": true
   },
   "outputs": [],
   "source": [
    "scaler= StandardScaler()\n",
    "Train_X_scaled=scaler.fit_transform(Train_X)\n",
    "Val_X_scaled=scaler.transform(Val_X)\n",
    "\n",
    "## Note that this step also converts the data to a numpy array"
   ]
  },
  {
   "cell_type": "code",
   "execution_count": 13,
   "metadata": {
    "collapsed": false,
    "deletable": true,
    "editable": true
   },
   "outputs": [
    {
     "data": {
      "text/plain": [
       "(1.0, 4.8962354559648555e-16)"
      ]
     },
     "execution_count": 13,
     "metadata": {},
     "output_type": "execute_result"
    }
   ],
   "source": [
    "np.std(Train_X_scaled[:,5]), np.mean(Train_X_scaled[:,5])"
   ]
  },
  {
   "cell_type": "markdown",
   "metadata": {
    "deletable": true,
    "editable": true
   },
   "source": [
    "## Lets Try out Logistic Regression with Cross Validation "
   ]
  },
  {
   "cell_type": "markdown",
   "metadata": {},
   "source": [
    "Now we will not really be using the test data, because we shall not be submitting anything. As the data is somewhat large, some of you might run into issues of running out of memory. So we shall save and then delete the test data set for the rest of the tutorial. "
   ]
  },
  {
   "cell_type": "code",
   "execution_count": 16,
   "metadata": {
    "collapsed": true,
    "deletable": true,
    "editable": true
   },
   "outputs": [],
   "source": [
    "test_data.to_csv(\"test_transformed.csv\",index=False)\n",
    "del test_data"
   ]
  },
  {
   "cell_type": "markdown",
   "metadata": {
    "deletable": true,
    "editable": true
   },
   "source": [
    "We shall use first Logistic Regression to do our classification. For any machine learning algorithms there are numerous hyperparameters which we have tune to achieve best results. For Logistic Regression we use the provided LogisticRegressionCV module. We use three fold cross validation to find the best regularization parameter (\"C\"). "
   ]
  },
  {
   "cell_type": "code",
   "execution_count": 17,
   "metadata": {
    "collapsed": false,
    "deletable": true,
    "editable": true
   },
   "outputs": [
    {
     "data": {
      "text/plain": [
       "LogisticRegressionCV(Cs=10, class_weight=None, cv=3, dual=False,\n",
       "           fit_intercept=True, intercept_scaling=1.0, max_iter=100,\n",
       "           multi_class='ovr', n_jobs=-1, penalty='l2', random_state=None,\n",
       "           refit=True, scoring='roc_auc', solver='lbfgs', tol=0.0001,\n",
       "           verbose=0)"
      ]
     },
     "execution_count": 17,
     "metadata": {},
     "output_type": "execute_result"
    }
   ],
   "source": [
    "from sklearn.linear_model import LogisticRegressionCV\n",
    "LR= LogisticRegressionCV(Cs=10,n_jobs=-1,scoring='roc_auc',cv=3)\n",
    "LR.fit(Train_X_scaled,Train_Y)\n"
   ]
  },
  {
   "cell_type": "markdown",
   "metadata": {
    "deletable": true,
    "editable": true
   },
   "source": [
    " Let's see which paramater the code picked out?"
   ]
  },
  {
   "cell_type": "code",
   "execution_count": 18,
   "metadata": {
    "collapsed": false,
    "deletable": true,
    "editable": true
   },
   "outputs": [
    {
     "data": {
      "text/plain": [
       "array([ 0.00599484])"
      ]
     },
     "execution_count": 18,
     "metadata": {},
     "output_type": "execute_result"
    }
   ],
   "source": [
    "LR.C_"
   ]
  },
  {
   "cell_type": "markdown",
   "metadata": {
    "deletable": true,
    "editable": true
   },
   "source": [
    "Let's see how our classifier did"
   ]
  },
  {
   "cell_type": "code",
   "execution_count": 19,
   "metadata": {
    "collapsed": false,
    "deletable": true,
    "editable": true
   },
   "outputs": [],
   "source": [
    "from sklearn.metrics import accuracy_score, confusion_matrix, classification_report\n",
    "def get_basic_metrics(actual_labels,predicted_labels):\n",
    "    print \" Raw Accuracy score:\", accuracy_score(actual_labels, predicted_labels)\n",
    "    print \"===========================\"\n",
    "    print \"CLASSIFICATION REPORT\"\n",
    "    print classification_report(actual_labels, predicted_labels)\n",
    "    print \"===========================\"\n",
    "    print \"CONFUSION MATRIX\"\n",
    "    conf= confusion_matrix(actual_labels, predicted_labels)\n",
    "    print \"   0     1\"\n",
    "    print \"0\",conf[0,0], conf[0,1]\n",
    "    print \"1\",conf[1,0], conf[1,1]    "
   ]
  },
  {
   "cell_type": "code",
   "execution_count": 20,
   "metadata": {
    "collapsed": false,
    "deletable": true,
    "editable": true
   },
   "outputs": [
    {
     "name": "stdout",
     "output_type": "stream",
     "text": [
      " Raw Accuracy score: 0.917348018838\n",
      "===========================\n",
      "CLASSIFICATION REPORT\n",
      "             precision    recall  f1-score   support\n",
      "\n",
      "          0       0.93      0.98      0.95     52965\n",
      "          1       0.87      0.66      0.75     12224\n",
      "\n",
      "avg / total       0.91      0.92      0.91     65189\n",
      "\n",
      "===========================\n",
      "CONFUSION MATRIX\n",
      "   0     1\n",
      "0 51752 1213\n",
      "1 4175 8049\n"
     ]
    }
   ],
   "source": [
    "Val_pred_LR=LR.predict(Val_X_scaled)\n",
    "Train_pred_LR=LR.predict(Train_X_scaled)\n",
    "get_basic_metrics(Val_Y,Val_pred_LR)\n"
   ]
  },
  {
   "cell_type": "markdown",
   "metadata": {
    "deletable": true,
    "editable": true
   },
   "source": [
    "Let us now define a couple of functions to get back the ROC Curve and the AUC score for any classifier"
   ]
  },
  {
   "cell_type": "code",
   "execution_count": 21,
   "metadata": {
    "collapsed": true,
    "deletable": true,
    "editable": true
   },
   "outputs": [],
   "source": [
    "from sklearn.metrics import roc_curve,roc_auc_score\n",
    "def get_roc_curve(Model, features, labels):\n",
    "    probas=Model.predict_proba(features)[:,1]\n",
    "    fpr,tpr,thresholds=roc_curve(labels,probas)\n",
    "    return (fpr,tpr,thresholds)\n",
    "\n",
    "def get_auc_score(Model, features, labels):\n",
    "    probas=Model.predict_proba(features)[:,1]\n",
    "    return roc_auc_score(labels,probas)\n"
   ]
  },
  {
   "cell_type": "code",
   "execution_count": 22,
   "metadata": {
    "collapsed": false,
    "deletable": true,
    "editable": true
   },
   "outputs": [
    {
     "name": "stdout",
     "output_type": "stream",
     "text": [
      "0.950243273489\n"
     ]
    }
   ],
   "source": [
    "print get_auc_score(LR,Val_X_scaled,Val_Y)"
   ]
  },
  {
   "cell_type": "markdown",
   "metadata": {
    "deletable": true,
    "editable": true
   },
   "source": [
    "We see that even with this rather naive approach and simple classifier we get a very high AUC. IN a general classification problem, one would be very happy with an AUC of 0.95"
   ]
  },
  {
   "cell_type": "markdown",
   "metadata": {
    "deletable": true,
    "editable": true
   },
   "source": [
    "# Let's See the ROC Curve"
   ]
  },
  {
   "cell_type": "markdown",
   "metadata": {
    "deletable": true,
    "editable": true
   },
   "source": [
    "Defining a function which will allow us to plot multiple ROC curves together"
   ]
  },
  {
   "cell_type": "code",
   "execution_count": 23,
   "metadata": {
    "collapsed": false,
    "deletable": true,
    "editable": true
   },
   "outputs": [],
   "source": [
    "def plot_roc_curve(Models,features,labels, Modelnames):\n",
    "    colors=['c','b','r','g','y']\n",
    "    x_flat=np.linspace(0,1,500)\n",
    "    plt.figure(figsize=(8,8))\n",
    "    for i,Model in enumerate(Models):\n",
    "        plot_vals=get_roc_curve(Model,features[i],labels[i])\n",
    "        plt.plot(plot_vals[0], plot_vals[1],c=colors[i],label=Modelnames[i]+\" (AUC score:\"+str(get_auc_score(Model,features[i],labels[i]))[0:6]+ \" )\")\n",
    "    plt.plot(x_flat,x_flat,'k--',label=\"Baseline\")\n",
    "    plt.xlabel(\"False Positice Rate\")\n",
    "    plt.ylabel(\"True Positive Rate\")\n",
    "    plt.legend()\n",
    "    plt.grid()\n"
   ]
  },
  {
   "cell_type": "code",
   "execution_count": 24,
   "metadata": {
    "collapsed": false,
    "deletable": true,
    "editable": true
   },
   "outputs": [
    {
     "data": {
      "image/png": "[encoded data removed]",
      "text/plain": [
       "<matplotlib.figure.Figure at 0x10a210350>"
      ]
     },
     "metadata": {},
     "output_type": "display_data"
    }
   ],
   "source": [
    "plot_roc_curve([LR],[Val_X_scaled],[Val_Y],[\"Logistic Regression\"])"
   ]
  },
  {
   "cell_type": "markdown",
   "metadata": {
    "deletable": true,
    "editable": true
   },
   "source": [
    "### Lets figure out at which features were important"
   ]
  },
  {
   "cell_type": "code",
   "execution_count": 25,
   "metadata": {
    "collapsed": false,
    "deletable": true,
    "editable": true
   },
   "outputs": [
    {
     "data": {
      "text/plain": [
       "<matplotlib.axes._subplots.AxesSubplot at 0x109f34a90>"
      ]
     },
     "execution_count": 25,
     "metadata": {},
     "output_type": "execute_result"
    },
    {
     "data": {
      "image/png": "[encoded data removed]",
      "text/plain": [
       "<matplotlib.figure.Figure at 0x109ef7710>"
      ]
     },
     "metadata": {},
     "output_type": "display_data"
    }
   ],
   "source": [
    "LR_importances= pd.Series(data=np.abs(LR.coef_[0])/max(np.abs(LR.coef_[0])),index=Train_X.columns)\n",
    "LR_importances.sort_values(inplace=True,ascending=False)\n",
    "LR_importances.ix[0:30].plot(kind='bar',figsize=(20,10))"
   ]
  },
  {
   "cell_type": "code",
   "execution_count": 26,
   "metadata": {
    "collapsed": false,
    "deletable": true,
    "editable": true
   },
   "outputs": [
    {
     "name": "stdout",
     "output_type": "stream",
     "text": [
      "Value distribution in complete dataset\n",
      "1    139416\n",
      "2     56148\n",
      "Name: PropertyField37, dtype: int64\n",
      "Value distribution for positive class in complete dataset\n",
      "1    21721\n",
      "2    14949\n",
      "Name: PropertyField37, dtype: int64\n",
      "Value distribution for negative class in complete dataset\n",
      "1    117695\n",
      "2     41199\n",
      "Name: PropertyField37, dtype: int64\n"
     ]
    }
   ],
   "source": [
    "print \"Value distribution in complete dataset\"\n",
    "print Train_X[\"PropertyField37\"].value_counts()\n",
    "print \"Value distribution for positive class in complete dataset\"\n",
    "print Train_X[\"PropertyField37\"][Train_Y==1].value_counts()\n",
    "print \"Value distribution for negative class in complete dataset\"\n",
    "print Train_X[\"PropertyField37\"][Train_Y==0].value_counts()"
   ]
  },
  {
   "cell_type": "markdown",
   "metadata": {},
   "source": [
    "As you might have noticed, training the classifier took up quite a bit of time. In general you want to avoid retraining a model unless necessary. SO we should save a trained classifier. The standard way is to save the entire classifier object as a serialized \"pickle\". Here we use scikit-learn's native pickler called joblib which (they claim) is a little more efficient than the standard pickle module"
   ]
  },
  {
   "cell_type": "code",
   "execution_count": 27,
   "metadata": {
    "collapsed": false,
    "deletable": true,
    "editable": true
   },
   "outputs": [
    {
     "data": {
      "text/plain": [
       "['LR_saved.pkl']"
      ]
     },
     "execution_count": 27,
     "metadata": {},
     "output_type": "execute_result"
    }
   ],
   "source": [
    "from sklearn.externals import joblib\n",
    "joblib.dump(LR, 'LR_saved.pkl')\n",
    "#LR_reloaded = joblib.load('filename.pkl') "
   ]
  },
  {
   "cell_type": "markdown",
   "metadata": {
    "deletable": true,
    "editable": true
   },
   "source": [
    "## An Alternative algorithm: RandomForests"
   ]
  },
  {
   "cell_type": "markdown",
   "metadata": {
    "deletable": true,
    "editable": true
   },
   "source": [
    "Let us now also look at an alternative algorithm for classification, which uses a collection of decision trees to classify our data. This algorithm (Random Forests) is extremely popular for its speed and robustness as well as its tendency to avoid overfitting."
   ]
  },
  {
   "cell_type": "markdown",
   "metadata": {
    "deletable": true,
    "editable": true
   },
   "source": [
    "Let us also look at another common feature of machine learning codes- The use of pipelines. In this pipeline we put the Standard scaler and the Classifier one after the other and then use GridsearchCV to tune hyperparameters. In the real world, one would do a search across many different values of the different hyperparameters of the different parts of the pipeline to get the best possible classifier."
   ]
  },
  {
   "cell_type": "code",
   "execution_count": 28,
   "metadata": {
    "collapsed": false,
    "deletable": true,
    "editable": true
   },
   "outputs": [
    {
     "name": "stdout",
     "output_type": "stream",
     "text": [
      "Fitting 3 folds for each of 2 candidates, totalling 6 fits\n"
     ]
    },
    {
     "name": "stderr",
     "output_type": "stream",
     "text": [
      "/usr/local/lib/python2.7/site-packages/sklearn/cross_validation.py:44: DeprecationWarning: This module was deprecated in version 0.18 in favor of the model_selection module into which all the refactored classes and functions are moved. Also note that the interface of the new CV iterators are different from that of this module. This module will be removed in 0.20.\n",
      "  \"This module will be removed in 0.20.\", DeprecationWarning)\n",
      "/usr/local/lib/python2.7/site-packages/sklearn/grid_search.py:43: DeprecationWarning: This module was deprecated in version 0.18 in favor of the model_selection module into which all the refactored classes and functions are moved. This module will be removed in 0.20.\n",
      "  DeprecationWarning)\n",
      "[Parallel(n_jobs=-1)]: Done   6 out of   6 | elapsed:  1.8min remaining:    0.0s\n",
      "[Parallel(n_jobs=-1)]: Done   6 out of   6 | elapsed:  1.8min finished\n"
     ]
    },
    {
     "name": "stdout",
     "output_type": "stream",
     "text": [
      "{'Rf__min_samples_split': 50, 'Rf__n_estimators': 50} 0.955999047873\n"
     ]
    }
   ],
   "source": [
    "from sklearn.ensemble import RandomForestClassifier\n",
    "from sklearn.grid_search import GridSearchCV\n",
    "from sklearn.pipeline import Pipeline\n",
    "Pipe=Pipeline([(\"Scaler\",StandardScaler()),(\"Rf\",RandomForestClassifier(random_state=84))])\n",
    "Param_grid_Rf={'Rf__n_estimators':[50],'Rf__min_samples_split':[50,60]}\n",
    "best_Rf=GridSearchCV(Pipe,Param_grid_Rf,cv=3,verbose=1,n_jobs=-1,scoring='roc_auc')\n",
    "best_Rf.fit(Train_X,Train_Y)\n",
    "print best_Rf.best_params_,best_Rf.best_score_,"
   ]
  },
  {
   "cell_type": "markdown",
   "metadata": {
    "deletable": true,
    "editable": true
   },
   "source": [
    "Note- In the above cell, we have used standard scaler to scale our data. However in random forests, scaling is not really necessary because it is a tree based algorithm. The scaling part was put in above just to illustrate how to use pipelines to put together different modules in the classifier."
   ]
  },
  {
   "cell_type": "markdown",
   "metadata": {
    "deletable": true,
    "editable": true
   },
   "source": [
    "Let us put use our best selected model to predict labels on our validation set."
   ]
  },
  {
   "cell_type": "code",
   "execution_count": 29,
   "metadata": {
    "collapsed": true,
    "deletable": true,
    "editable": true
   },
   "outputs": [],
   "source": [
    "Val_Rf_pred= best_Rf.predict(Val_X)"
   ]
  },
  {
   "cell_type": "markdown",
   "metadata": {
    "deletable": true,
    "editable": true
   },
   "source": [
    "How did we do? Lets take a look at various metrics"
   ]
  },
  {
   "cell_type": "code",
   "execution_count": 30,
   "metadata": {
    "collapsed": false,
    "deletable": true,
    "editable": true
   },
   "outputs": [
    {
     "name": "stdout",
     "output_type": "stream",
     "text": [
      " Raw Accuracy score: 0.915691297612\n",
      "===========================\n",
      "CLASSIFICATION REPORT\n",
      "             precision    recall  f1-score   support\n",
      "\n",
      "          0       0.92      0.98      0.95     52965\n",
      "          1       0.88      0.64      0.74     12224\n",
      "\n",
      "avg / total       0.91      0.92      0.91     65189\n",
      "\n",
      "===========================\n",
      "CONFUSION MATRIX\n",
      "   0     1\n",
      "0 51879 1086\n",
      "1 4410 7814\n"
     ]
    }
   ],
   "source": [
    "get_basic_metrics(Val_Y,Val_Rf_pred)"
   ]
  },
  {
   "cell_type": "code",
   "execution_count": 31,
   "metadata": {
    "collapsed": false,
    "deletable": true,
    "editable": true
   },
   "outputs": [
    {
     "data": {
      "image/png": "[encoded data removed]",
      "text/plain": [
       "<matplotlib.figure.Figure at 0x109ef7990>"
      ]
     },
     "metadata": {},
     "output_type": "display_data"
    }
   ],
   "source": [
    "plot_roc_curve([best_Rf,LR],[Val_X,Val_X_scaled],[Val_Y]*2,[\"Random Forest\",\"LogisticRegression\"])"
   ]
  },
  {
   "cell_type": "markdown",
   "metadata": {
    "deletable": true,
    "editable": true
   },
   "source": [
    "As we see, we get a small improvement over Logistic Regression. However one should note that in both cases, we have not really done exhaustive tuning of hyperparamters, so these results might change a little with much more tuning"
   ]
  },
  {
   "cell_type": "markdown",
   "metadata": {
    "deletable": true,
    "editable": true
   },
   "source": [
    "Now let us see which features Random Forests picked out as important"
   ]
  },
  {
   "cell_type": "code",
   "execution_count": 35,
   "metadata": {
    "collapsed": false
   },
   "outputs": [],
   "source": [
    "importances_Rf=best_Rf.best_estimator_.named_steps[\"Rf\"].feature_importances_"
   ]
  },
  {
   "cell_type": "code",
   "execution_count": null,
   "metadata": {
    "collapsed": true
   },
   "outputs": [],
   "source": []
  },
  {
   "cell_type": "code",
   "execution_count": 36,
   "metadata": {
    "collapsed": false,
    "deletable": true,
    "editable": true
   },
   "outputs": [
    {
     "data": {
      "text/plain": [
       "<matplotlib.axes._subplots.AxesSubplot at 0x10cccb6d0>"
      ]
     },
     "execution_count": 36,
     "metadata": {},
     "output_type": "execute_result"
    },
    {
     "data": {
      "image/png": "[encoded data removed]",
      "text/plain": [
       "<matplotlib.figure.Figure at 0x10cca6990>"
      ]
     },
     "metadata": {},
     "output_type": "display_data"
    }
   ],
   "source": [
    "Rf_importances= pd.Series(data=(importances_Rf)/max(importances_Rf),index=Train_X.columns)\n",
    "Rf_importances.sort_values(inplace=True,ascending=False)\n",
    "Rf_importances.ix[0:30].plot(kind='bar',figsize=(20,10))"
   ]
  },
  {
   "cell_type": "markdown",
   "metadata": {
    "deletable": true,
    "editable": true
   },
   "source": [
    "Lets also compare the feature importances as decided by the two classifiers. We shall see that there are some differences because fundamentally different mechanisms are used by the two methods"
   ]
  },
  {
   "cell_type": "code",
   "execution_count": 37,
   "metadata": {
    "collapsed": false,
    "deletable": true,
    "editable": true
   },
   "outputs": [
    {
     "data": {
      "text/plain": [
       "<matplotlib.axes._subplots.AxesSubplot at 0x109f34350>"
      ]
     },
     "execution_count": 37,
     "metadata": {},
     "output_type": "execute_result"
    },
    {
     "data": {
      "image/png": "[encoded data removed]",
      "text/plain": [
       "<matplotlib.figure.Figure at 0x10ccaa790>"
      ]
     },
     "metadata": {},
     "output_type": "display_data"
    }
   ],
   "source": [
    "Imp_joined=pd.concat([Rf_importances,LR_importances],axis=1,keys=[\"RF\",\"LR\"])\n",
    "Imp_joined.sort_values(by=\"RF\",inplace=True,ascending=False)\n",
    "Imp_joined.ix[0:70].plot(kind='bar',figsize=(20,10))"
   ]
  },
  {
   "cell_type": "markdown",
   "metadata": {},
   "source": [
    "Saving the Random forest classifier "
   ]
  },
  {
   "cell_type": "code",
   "execution_count": 41,
   "metadata": {
    "collapsed": false,
    "deletable": true,
    "editable": true
   },
   "outputs": [
    {
     "data": {
      "text/plain": [
       "['RF_saved.pkl']"
      ]
     },
     "execution_count": 41,
     "metadata": {},
     "output_type": "execute_result"
    }
   ],
   "source": [
    "joblib.dump(best_Rf, 'RF_saved.pkl')\n",
    "#RF_reloaded = joblib.load('RF_saved.pkl') "
   ]
  },
  {
   "cell_type": "markdown",
   "metadata": {
    "deletable": true,
    "editable": true
   },
   "source": [
    "### If we had to submit on Kaggle"
   ]
  },
  {
   "cell_type": "markdown",
   "metadata": {
    "deletable": true,
    "editable": true
   },
   "source": [
    "In case we had to submit on kaggle, we would have to submit a csv file containing the Quote Number and predicted probability. We could get the Quote Number from the test.csv file, and using the same methods to clean the data, use any of our classifiers to calculate probability of quote conversion (classifier.predict_proba(Test_X)). Then submit the probability and the quote number together to kaggle."
   ]
  },
  {
   "cell_type": "markdown",
   "metadata": {
    "collapsed": true,
    "deletable": true,
    "editable": true
   },
   "source": [
    "## Conclusion"
   ]
  },
  {
   "cell_type": "markdown",
   "metadata": {
    "deletable": true,
    "editable": true
   },
   "source": [
    "So we see that we have achieved pretty good results even by employing some relatively simple analysis. In the actual competition, the winning team had an AUC score of ~0.97. To ahieve these results they had to use a much much more complicated model and much more advanced methods. In the real world (Not the world of Kaggle competitions), it is unlikely that we will spend that much effort in gaining ~0.01 in AUC score. \n",
    "\n",
    "Moral 1)- Always try simple things first. Quite often the simplest methods are good enough. Always use the least complicated method that gives you as good a result as required.\n",
    "\n",
    "Moral 2)- Most often it is the data that decides how good your performance will be. Different algorithms will in general not give you massive gains. If possible always get more data rather than spend your time building very complicated models."
   ]
  },
  {
   "cell_type": "markdown",
   "metadata": {
    "deletable": true,
    "editable": true
   },
   "source": [
    "## P.S- What about using SparkML?\n",
    "\n",
    "Spark comes with a suite of machine learning tools called SparkML. The suite is designed to be very similar to Scikit-Learn and has most of the functionality of Scikit-Learn. So if we had used PySpark instead , you could use the SparkML library and use those modules.\n",
    "\n",
    "For Example:\n",
    "<b>\n",
    "<code>\n",
    "from pyspark.ml import Pipeline\n",
    "from pyspark.ml.classification import RandomForestClassifier\n",
    "</code>\n",
    "</b>"
   ]
  },
  {
   "cell_type": "code",
   "execution_count": null,
   "metadata": {
    "collapsed": true,
    "deletable": true,
    "editable": true
   },
   "outputs": [],
   "source": []
  }
 ],
 "metadata": {
  "kernelspec": {
   "display_name": "Python 2",
   "language": "python",
   "name": "python2"
  },
  "language_info": {
   "codemirror_mode": {
    "name": "ipython",
    "version": 2
   },
   "file_extension": ".py",
   "mimetype": "text/x-python",
   "name": "python",
   "nbconvert_exporter": "python",
   "pygments_lexer": "ipython2",
   "version": "2.7.11"
  }
 },
 "nbformat": 4,
 "nbformat_minor": 2
}
